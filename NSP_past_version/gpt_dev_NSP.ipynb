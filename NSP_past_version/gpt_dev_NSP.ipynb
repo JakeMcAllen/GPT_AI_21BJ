{
 "cells": [
  {
   "cell_type": "markdown",
   "metadata": {
    "id": "2vbAFkohmD5X"
   },
   "source": [
    "# Link del video yt\n",
    "https://www.youtube.com/watch?v=kCc8FmEb1nY"
   ]
  },
  {
   "cell_type": "markdown",
   "metadata": {
    "id": "wJpXpmjEYC_T"
   },
   "source": [
    "# Building a GPT\n",
    "\n",
    "Thesis project by giorgio allena ( giorgio.allena152@edu.unito.it )\n"
   ]
  },
  {
   "cell_type": "markdown",
   "metadata": {},
   "source": [
    "## Model"
   ]
  },
  {
   "cell_type": "markdown",
   "metadata": {
    "id": "fyG5kmvpxAp0"
   },
   "source": [
    "### Variables"
   ]
  },
  {
   "cell_type": "code",
   "execution_count": 70,
   "metadata": {
    "execution": {
     "iopub.execute_input": "2024-06-19T16:15:55.766199Z",
     "iopub.status.busy": "2024-06-19T16:15:55.765209Z",
     "iopub.status.idle": "2024-06-19T16:16:01.629161Z",
     "shell.execute_reply": "2024-06-19T16:16:01.629161Z",
     "shell.execute_reply.started": "2024-06-19T16:15:55.766199Z"
    }
   },
   "outputs": [
    {
     "name": "stdout",
     "output_type": "stream",
     "text": [
      "cuda\n"
     ]
    }
   ],
   "source": [
    "import torch\n",
    "import torch.nn as nn\n",
    "from torch.nn import functional as F\n",
    "from torchtext.data.utils import get_tokenizer\n",
    "\n",
    "from datasets import load_dataset, load_from_disk\n",
    "from transformers import DistilBertTokenizer\n",
    "\n",
    "from tqdm import tqdm\n",
    "\n",
    "from random import randrange\n",
    "import pandas as pd\n",
    "import csv\n",
    "\n",
    "\n",
    "# ------------\n",
    "# SENTENCE MATRIX\n",
    "batch_size = 4                 # 16                 # How many independent sequences will we process in parallel ( impact the loss calculation time )\n",
    "block_size = 250               # 500                 # What is the maximum context length for predictions?\n",
    "\n",
    "# LOSS\n",
    "eval_interval = 25        # 100                 # Number iteraction when start to evaluate the loss\n",
    "eval_iters = 50          # 200                 # Times of testing the LOSS ( impact the loss calculation time )\n",
    "learning_rate = 1e-3\n",
    "\n",
    "# DEVICE\n",
    "device = 'cuda' if torch.cuda.is_available() else 'cpu'\n",
    "# device = 'cpu'\n",
    "print(device)\n",
    "\n",
    "# BLOCKS\n",
    "n_embd = 64\n",
    "n_head = 16\n",
    "n_layer = 16              # 4                  # Number of layers\n",
    "dropout = 0.2             # 0.0\n",
    "\n",
    "# ITERACTION\n",
    "max_iters = 1000          # 100000                # Number of generations\n",
    "iterator_dataset = 0\n",
    "\n",
    "\n",
    "\n",
    "# ------------\n",
    "# SET VARIABLES FOR VALUE REGISTRATION:\n",
    "savingBasePath = f\"save/model_nn_{str(n_layer)}_gen_{str(max_iters)}\"\n",
    "model_name = f'model_nn_{str(n_layer)}_gen_{str(max_iters)}.pt'\n",
    "csv_file_name = f'loss_nn_{str(n_layer)}_gen_{str(max_iters)}.csv'\n",
    "\n",
    "df_loss_train = []\n",
    "df_loss_test = []\n",
    "df_step = []\n",
    "fields = ['train_loss', 'loss_test', 'step'] \n",
    "\n",
    "\n",
    "\n",
    "# ------------\n",
    "# LOAD DATASETS AND TOKENIZER:\n",
    "dataset = load_dataset(\"llm-wizard/alpaca-gpt4-data\", split=\"train\")\n",
    "tokenizer = DistilBertTokenizer.from_pretrained('distilbert-base-uncased')                 # It's a model\n",
    "\n",
    "torch.manual_seed(1337)\n",
    "vocab_size = tokenizer.vocab_size\n",
    "\n",
    "\n",
    "# Loadign pre-training bert tokenizer\n",
    "encode = lambda s: tokenizer.encode_plus(s, padding=\"max_length\", return_tensors='pt', add_special_tokens=True, max_length=block_size, truncation=True)['input_ids'].flatten().tolist()\n",
    "decode = lambda s: tokenizer.decode(s)"
   ]
  },
  {
   "cell_type": "markdown",
   "metadata": {
    "execution": {
     "iopub.execute_input": "2024-06-18T15:53:22.363409Z",
     "iopub.status.busy": "2024-06-18T15:53:22.363409Z",
     "iopub.status.idle": "2024-06-18T15:53:22.368584Z",
     "shell.execute_reply": "2024-06-18T15:53:22.367574Z",
     "shell.execute_reply.started": "2024-06-18T15:53:22.363409Z"
    }
   },
   "source": [
    "### Model"
   ]
  },
  {
   "cell_type": "code",
   "execution_count": 2,
   "metadata": {
    "colab": {
     "base_uri": "https://localhost:8080/"
    },
    "execution": {
     "iopub.execute_input": "2024-06-19T15:42:11.112834Z",
     "iopub.status.busy": "2024-06-19T15:42:11.111833Z",
     "iopub.status.idle": "2024-06-19T15:42:11.138415Z",
     "shell.execute_reply": "2024-06-19T15:42:11.137404Z",
     "shell.execute_reply.started": "2024-06-19T15:42:11.112834Z"
    },
    "id": "swjLUf2Aw8-m",
    "outputId": "b5c0826c-ff0f-4533-b1ff-ee8605e40b9d"
   },
   "outputs": [],
   "source": [
    "def get_batch(split):\n",
    "    data, dataOut = [], []\n",
    "    # item = randrange(dataset.num_rows)\n",
    "    global iterator_dataset\n",
    "\n",
    "    while(len(data) == 0):\n",
    "        item = iterator_dataset % dataset.num_rows\n",
    "        iterator_dataset += 1\n",
    "        \n",
    "        data = encode( dataset['instruction'][item] if dataset['input'][item] == \"\" else dataset['instruction'][item] + \" \" + dataset['input'][item] )\n",
    "        dataOut = encode( dataset['output'][item] )\n",
    "    \n",
    "    data = torch.tensor(data, dtype=torch.long)\n",
    "    dataOut = torch.tensor(dataOut, dtype=torch.long)\n",
    "    \n",
    "    x = torch.stack([data])\n",
    "    y = torch.stack([dataOut])\n",
    "    # print(f\"x.size(): {x.size()}\")\n",
    "    # print(f\"y.size(): {y.size()}\")\n",
    "    \n",
    "    x, y = x.to(device), y.to(device)\n",
    "    return x, y\n",
    "\n",
    "\n",
    "@torch.no_grad()\n",
    "def estimate_loss():\n",
    "    out = {}\n",
    "    model.eval()\n",
    "    for split in ['train', 'val']:\n",
    "        losses = torch.zeros(eval_iters)\n",
    "        for k in range(eval_iters):\n",
    "            X, Y = get_batch(split)\n",
    "            logits, loss = model(X, Y)\n",
    "            losses[k] = loss.item()\n",
    "        out[split] = losses.mean()\n",
    "    model.train()\n",
    "    return out\n",
    "\n",
    "class Head(nn.Module):\n",
    "    \"\"\" one head of self-attention \"\"\"\n",
    "\n",
    "    def __init__(self, head_size):\n",
    "        super().__init__()\n",
    "        self.key = nn.Linear(n_embd, head_size, bias=False)\n",
    "        self.query = nn.Linear(n_embd, head_size, bias=False)\n",
    "        self.value = nn.Linear(n_embd, head_size, bias=False)\n",
    "        self.register_buffer('tril', torch.tril(torch.ones(block_size, block_size)))\n",
    "\n",
    "        self.dropout = nn.Dropout(dropout)\n",
    "\n",
    "    def forward(self, x):\n",
    "        B,T,C = x.shape\n",
    "        k = self.key(x)   # (B,T,C)\n",
    "        q = self.query(x) # (B,T,C)\n",
    "        # compute attention scores (\"affinities\")\n",
    "        wei = q @ k.transpose(-2,-1) * C**-0.5 # (B, T, C) @ (B, C, T) -> (B, T, T)\n",
    "        wei = wei.masked_fill(self.tril[:T, :T] == 0, float('-inf')) # (B, T, T)\n",
    "        wei = F.softmax(wei, dim=-1) # (B, T, T)\n",
    "        wei = self.dropout(wei)\n",
    "        # perform the weighted aggregation of the values\n",
    "        v = self.value(x) # (B,T,C)\n",
    "        out = wei @ v # (B, T, T) @ (B, T, C) -> (B, T, C)\n",
    "        return out\n",
    "\n",
    "class MultiHeadAttention(nn.Module):\n",
    "    \"\"\" multiple heads of self-attention in parallel \"\"\"\n",
    "\n",
    "    def __init__(self, num_heads, head_size):\n",
    "        super().__init__()\n",
    "        self.heads = nn.ModuleList([Head(head_size) for _ in range(num_heads)])\n",
    "        self.proj = nn.Linear(n_embd, n_embd)\n",
    "        self.dropout = nn.Dropout(dropout)\n",
    "\n",
    "    def forward(self, x):\n",
    "        out = torch.cat([h(x) for h in self.heads], dim=-1)\n",
    "        out = self.dropout(self.proj(out))\n",
    "        return out\n",
    "\n",
    "class FeedFoward(nn.Module):\n",
    "    \"\"\" a simple linear layer followed by a non-linearity \"\"\"\n",
    "\n",
    "    def __init__(self, n_embd):\n",
    "        super().__init__()\n",
    "        self.net = nn.Sequential(\n",
    "            nn.Linear(n_embd, 4 * n_embd),\n",
    "            nn.ReLU(),\n",
    "            nn.Linear(4 * n_embd, n_embd),\n",
    "            nn.Dropout(dropout),\n",
    "        )\n",
    "\n",
    "    def forward(self, x):\n",
    "        return self.net(x)\n",
    "\n",
    "    def sv(self, basePath, number_of_block):\n",
    "        torch.save(self.net.state_dict(), f\"{basePath}/FeedFoward_n{number_of_block}.pt\")\n",
    "\n",
    "    def map(self, basePath, number_of_block, device):\n",
    "        self.net.load_state_dict(torch.load(f\"{basePath}/FeedFoward_n{number_of_block}.pt\", map_location=torch.device(device)))\n",
    "\n",
    "\n",
    "class Block(nn.Module):\n",
    "    \"\"\" Transformer block: communication followed by computation \"\"\"\n",
    "\n",
    "    def __init__(self, n_embd, n_head):\n",
    "        # n_embd: embedding dimension, n_head: the number of heads we'd like\n",
    "        super().__init__()\n",
    "        head_size = n_embd // n_head\n",
    "        self.sa = MultiHeadAttention(n_head, head_size)\n",
    "        self.ffwd = FeedFoward(n_embd)\n",
    "        self.ln1 = nn.LayerNorm(n_embd)\n",
    "        self.ln2 = nn.LayerNorm(n_embd)\n",
    "\n",
    "    def forward(self, x):\n",
    "        x = x + self.sa(self.ln1(x))\n",
    "        x = x + self.ffwd(self.ln2(x))\n",
    "        return x\n",
    "\n",
    "    def sv(self, basePath, number_of_block):\n",
    "        self.ffwd.sv(basePath, number_of_block)\n",
    "\n",
    "    def map(self, basePath, number_of_block, device):\n",
    "        self.ffwd.map(basePath, number_of_block, device)\n",
    "        # torch.load(f\"{base_path}/blocks_BigramLanguageModel.pt\", map_location=torch.device(device))\n",
    "\n",
    "\n",
    "# super simple bigram model\n",
    "\n",
    "class BigramLanguageModel(nn.Module):\n",
    "    \n",
    "    def __init__(self):\n",
    "        super().__init__()\n",
    "        # each token directly reads off the logits for the next token from a lookup table\n",
    "        self.token_embedding_table = nn.Embedding(vocab_size, n_embd)\n",
    "        self.position_embedding_table = nn.Embedding(block_size, n_embd)\n",
    "        self.blocks = nn.Sequential(*[Block(n_embd, n_head=n_head) for _ in range(n_layer)])\n",
    "        self.ln_f = nn.LayerNorm(n_embd) # final layer norm\n",
    "        self.lm_head = nn.Linear(n_embd, vocab_size)                        # 64, 28\n",
    "\n",
    "    def forward(self, idx, targets=None):\n",
    "        B, T = idx.shape\n",
    "\n",
    "        # idx and targets are both (B,T) tensor of integers\n",
    "        tok_emb = self.token_embedding_table(idx) # (B,T,C)\n",
    "        pos_emb = self.position_embedding_table(torch.arange(T, device=device)) # (T,C)\n",
    "        x = tok_emb + pos_emb # (B,T,C)\n",
    "        x = self.blocks(x) # (B,T,C)\n",
    "        x = self.ln_f(x) # (B,T,C)\n",
    "        logits = self.lm_head(x) # (B,T,vocab_size)\n",
    "\n",
    "        if targets is None:\n",
    "            loss = None\n",
    "        else:\n",
    "            B, T, C = logits.shape\n",
    "            logits = logits.view(B*T, C)\n",
    "            targets = targets.view(B*T)\n",
    "            loss = F.cross_entropy(logits, targets)\n",
    "\n",
    "        return logits, loss\n",
    "\n",
    "    def generate(self, idx, max_new_tokens):\n",
    "        # idx is (B, T) array of indices in the current context\n",
    "        for _ in range(max_new_tokens):\n",
    "            # crop idx to the last block_size tokens\n",
    "            idx_cond = idx[:, -block_size:]\n",
    "            # get the predictions\n",
    "            logits, loss = self(idx_cond)\n",
    "            # focus only on the last time step\n",
    "            logits = logits[:, -1, :] # becomes (B, C)\n",
    "            # apply softmax to get probabilities\n",
    "            probs = F.softmax(logits, dim=-1) # (B, C)\n",
    "            # sample from the distribution\n",
    "            idx_next = torch.multinomial(probs, num_samples=1) # (B, 1)\n",
    "            # append sampled index to the running sequence\n",
    "            idx = torch.cat((idx, idx_next), dim=1) # (B, T+1)\n",
    "        return idx\n",
    "\n",
    "    def sv(self, base_path):\n",
    "        torch.save(self.blocks.state_dict(), f\"{base_path}/blocks_BigramLanguageModel.pt\")\n",
    "               \n",
    "        for i in range(n_layer):\n",
    "            self.blocks[i].sv(base_path, i)\n",
    "        \n",
    "    def map(self, device, base_path):\n",
    "        for i in range(n_layer):\n",
    "            self.blocks[i].map(base_path, i, device)\n",
    "\n",
    "        self.blocks.load_state_dict(torch.load(f\"{base_path}/blocks_BigramLanguageModel.pt\", map_location=torch.device(device)))"
   ]
  },
  {
   "cell_type": "markdown",
   "metadata": {},
   "source": [
    "### Utility functions"
   ]
  },
  {
   "cell_type": "code",
   "execution_count": 72,
   "metadata": {
    "execution": {
     "iopub.execute_input": "2024-06-19T16:55:21.377725Z",
     "iopub.status.busy": "2024-06-19T16:55:21.377725Z",
     "iopub.status.idle": "2024-06-19T16:55:21.391897Z",
     "shell.execute_reply": "2024-06-19T16:55:21.390891Z",
     "shell.execute_reply.started": "2024-06-19T16:55:21.377725Z"
    }
   },
   "outputs": [],
   "source": [
    "import pandas as pd\n",
    "import os \n",
    "\n",
    "#----------------------------\n",
    "#   CHECK POINT\n",
    "#----------------------------\n",
    "def checkpoint_iter(file_iterator_dataset, data=0):\n",
    "    path_to_check = \"/\".join(file_iterator_dataset.split(\"/\")[:-1])\n",
    "    if not os.path.exists(path_to_check):\n",
    "        os.mkdir(path_to_check) \n",
    "        \n",
    "    f = open(file_iterator_dataset, \"w+\")\n",
    "    f.write(str(data))\n",
    "    f.close()\n",
    "\n",
    "def checkpoint(model, filename, csv_file_name, fields, rows, file_iterator_dataset, iterator_dataset):\n",
    "    torch.save(model.state_dict(), filename)\n",
    "\n",
    "    with open(csv_file_name, 'w') as f:\n",
    "        write = csv.writer(f)\n",
    "        \n",
    "        write.writerow(fields)\n",
    "        write.writerows(rows)\n",
    "    \n",
    "    checkpoint_iter(file_iterator_dataset, iterator_dataset)\n",
    "\n",
    "\n",
    "def reasume_model(model, filename, device):\n",
    "    model.load_state_dict(torch.load(filename))\n",
    "    return model.to(device)\n",
    "    \n",
    "\n",
    "def resume(model, filename, device, csv_file_name=None, file_iterator_dataset=None):\n",
    "    m = reasume_model(model, filename, device)\n",
    "\n",
    "    df = pd.read_csv(csv_file_name)\n",
    "    f = open(file_iterator_dataset, \"r\")\n",
    "    i_db = f.read()\n",
    "    \n",
    "    return m, df.values.tolist(), int(i_db)\n",
    "\n",
    "\n",
    "\n",
    "#----------------------------\n",
    "#   SAVE AND LOAD\n",
    "#----------------------------\n",
    "def save_model(model, model_path, csv_file_name, fields, rows):\n",
    "    # Create path\n",
    "    path_to_check = \"/\".join(model_path.split(\"/\")[:-1])\n",
    "    if not os.path.exists(path_to_check):\n",
    "        os.mkdir(path_to_check) \n",
    "    # Save model\n",
    "    torch.save(model.state_dict(), model_path)\n",
    "    model.sv(path_to_check)\n",
    "    # Save loss\n",
    "    with open(csv_file_name, 'w') as f:\n",
    "        write = csv.writer(f)\n",
    "        write.writerow(fields)\n",
    "        write.writerows(rows)\n",
    "    \n",
    "    print(\"\\n SAVED \\n\")\n",
    "\n",
    "\n",
    "def reasume_base_data(path_to_save, device, model):\n",
    "    model.map(device, \"/\".join(path_to_save.split(\"/\")[:-1]))\n",
    "    model.load_state_dict(torch.load(path_to_save))\n",
    "    print(\"\\n LOAD \\n\")\n",
    "    return model.to(device)\n",
    "\n",
    "\n",
    "\n",
    "#----------------------------\n",
    "#   PRINT\n",
    "#----------------------------\n",
    "def run_model(m, device, start_sentence, max_new_tokens=50, commentFlag=False, decoded=False, eliminate_input=True):\n",
    "    inptVal = encode( start_sentence )\n",
    "    inptVal = inptVal[:inptVal.index(102)]\n",
    "    inptVal.append(101)\n",
    "    inptVal_c = inptVal\n",
    "    inptVal = torch.as_tensor(inptVal, dtype=torch.long, device=device)\n",
    "    \n",
    "    outVal = m.generate(inptVal.view(1, inptVal.size()[0]), max_new_tokens=max_new_tokens)\n",
    "    outVal = outVal[0].tolist()\n",
    "\n",
    "    if eliminate_input: outVal = outVal[len(inptVal_c):]\n",
    "    if decoded: outVal = decode(outVal)\n",
    "    if commentFlag: print(f\" Reponse to str: {start_sentence} => \\nOutput predicted:\\t  :{outVal} \", end=\"\\n\\n\")\n",
    "    \n",
    "    return outVal\n",
    "\n",
    "def run_model_zeros(m, device, max_new_tokens=50):\n",
    "    context = torch.zeros((1, 1), dtype=torch.long, device=device)\n",
    "    print(f\"\\nText: {decode(m.generate(context, max_new_tokens=50)[0].tolist())}\")\n",
    "\n",
    "\n",
    "def plot_loss_graph(df_loss_train, df_loss_test, print_min_val=False):\n",
    "    df = pd.DataFrame({'train_loss': df_loss_train, 'loss_test': df_loss_test})\n",
    "    \n",
    "    if print_min_val:\n",
    "        print(f\"Min val of loss: {df['train_loss'].min() if df['train_loss'].min() < df['loss_test'].min() else df['loss_test'].min()}\", end=\"\\n\\n\")\n",
    "    \n",
    "    df.plot(y=['train_loss','loss_test'])\n",
    "    # df.describe()\n",
    "\n",
    "    print(\"\\n\\n\")"
   ]
  },
  {
   "cell_type": "markdown",
   "metadata": {
    "id": "CYoJlBQMwVlC"
   },
   "source": [
    "## Train"
   ]
  },
  {
   "cell_type": "code",
   "execution_count": 71,
   "metadata": {
    "execution": {
     "iopub.execute_input": "2024-06-19T16:16:04.036152Z",
     "iopub.status.busy": "2024-06-19T16:16:04.036152Z",
     "iopub.status.idle": "2024-06-19T16:55:20.359339Z",
     "shell.execute_reply": "2024-06-19T16:55:20.359339Z",
     "shell.execute_reply.started": "2024-06-19T16:16:04.036152Z"
    }
   },
   "outputs": [
    {
     "name": "stderr",
     "output_type": "stream",
     "text": [
      "Loading: 100%|█████████████████████████████████████████████████████████████████████| 1000/1000 [39:00<00:00,  2.34s/it]\n"
     ]
    },
    {
     "name": "stdout",
     "output_type": "stream",
     "text": [
      "\n",
      " SAVED \n",
      "\n",
      "\n",
      "\n",
      "\n"
     ]
    },
    {
     "data": {
      "text/plain": [
       "\"[CLS] [CLS] of receivedphi [PAD] for are are learning intensity strange [PAD], jailed reducing [PAD] while'to [PAD]., [PAD] reward [PAD], [PAD]ing 8 [PAD] the : [PAD] circulating [PAD] while [PAD] [SEP] [PAD] system [PAD] this [PAD] long [PAD] [PAD]. [PAD] [PAD]\""
      ]
     },
     "execution_count": 71,
     "metadata": {},
     "output_type": "execute_result"
    },
    {
     "data": {
      "image/png": "[encoded data removed]",
      "text/plain": [
       "<Figure size 640x480 with 1 Axes>"
      ]
     },
     "metadata": {},
     "output_type": "display_data"
    }
   ],
   "source": [
    "model = BigramLanguageModel()\n",
    "m = model.to(device)\n",
    "start_epoch = 0\n",
    "rows = [] \n",
    "\n",
    "\n",
    "\n",
    "\n",
    "#----------------------------\n",
    "#   CHECK POINT LOADER\n",
    "#----------------------------\n",
    "base_path = './cks/check_points_v2'\n",
    "if start_epoch>0:\n",
    "    m, rows, iterator_dataset = resume(m, f\"{base_path}/cp{start_epoch}.pth\", device, f\"{base_path}/loss_orc_{start_epoch}.csv\", f\"{base_path}/iterator_db.txt\")\n",
    "    start_epoch += 1\n",
    "    print(rows)\n",
    "\n",
    "\n",
    "\n",
    "#----------------------------\n",
    "#   TRAINING\n",
    "#----------------------------\n",
    "optimizer = torch.optim.AdamW(model.parameters(), lr=learning_rate)\n",
    "for epoch in tqdm (range(start_epoch, max_iters), desc=\"Loading\"):\n",
    "    # every once in a while evaluate the loss on train and val sets\n",
    "    if epoch % eval_interval == 0 or epoch == max_iters - 1:\n",
    "        losses = estimate_loss()\n",
    "        # print(f\"\\tStep {epoch}: \\ttrain loss {losses['train']:.4f}, val loss {losses['val']:.4f}  \")\n",
    "        df_loss_train.append( round(losses['train'].item(), 4) )\n",
    "        df_loss_test.append( round(losses['val'].item(), 4) )\n",
    "        df_step.append( epoch )\n",
    "\n",
    "        rows.append([round(losses['train'].item(), 4), round(losses['val'].item(), 4), epoch])\n",
    "\n",
    "        checkpoint(m, f\"{base_path}/cp{epoch}.pth\", f\"{base_path}/loss_orc_{epoch}.csv\", fields, rows, f\"{base_path}/iterator_db.txt\", iterator_dataset)\n",
    "        \n",
    "    # sample a batch of data\n",
    "    xb, yb = get_batch('train')\n",
    "\n",
    "    # evaluate the loss\n",
    "    logits, loss = model(xb, yb)\n",
    "    optimizer.zero_grad(set_to_none=True)\n",
    "    loss.backward()\n",
    "    optimizer.step()\n",
    "\n",
    "    # Update bar\n",
    "    pass\n",
    "\n",
    "\n",
    "# Save datas\n",
    "save_model(m, f\"./{savingBasePath}/{model_name}\", f\"./{savingBasePath}/{csv_file_name}\", fields, rows)\n",
    "\n",
    "# Run model\n",
    "plot_loss_graph(df_loss_train, df_loss_test)\n",
    "print(\"HW: \\t\" + run_model(m , device, \"Hello world\", decoded=True), end=\"\\n\\n\")\n",
    "print(\"ZI: \\t\" + run_model_zeros(m, device), end=\"\\n\\n\")\n",
    "\n",
    "\n",
    "# generate from the model\n",
    "# context = torch.zeros((1, 1), dtype=torch.long, device=device)\n",
    "# print(f\"\\nText: {decode(m.generate(context, max_new_tokens=50)[0].tolist())}\")"
   ]
  },
  {
   "cell_type": "code",
   "execution_count": 74,
   "metadata": {
    "execution": {
     "iopub.execute_input": "2024-06-19T16:57:25.397476Z",
     "iopub.status.busy": "2024-06-19T16:57:25.396478Z",
     "iopub.status.idle": "2024-06-19T16:57:32.331130Z",
     "shell.execute_reply": "2024-06-19T16:57:32.331130Z",
     "shell.execute_reply.started": "2024-06-19T16:57:25.397476Z"
    }
   },
   "outputs": [
    {
     "data": {
      "text/plain": [
       "'[CLS] [PAD]. an [PAD] you any tasks = the, flowers [PAD] [PAD] [PAD] strong the [PAD] studies airport better access [PAD] germany [PAD] [PAD] 1 [PAD] 4 [PAD]har [PAD] directing defined. known sky develop [PAD] [SEP] produce [PAD]. you not [PAD] [PAD] billion and [PAD]'"
      ]
     },
     "execution_count": 74,
     "metadata": {},
     "output_type": "execute_result"
    }
   ],
   "source": [
    "run_model(m , device, \"Hello world\", decoded=True)"
   ]
  },
  {
   "cell_type": "code",
   "execution_count": 75,
   "metadata": {
    "execution": {
     "iopub.execute_input": "2024-06-19T16:57:33.713407Z",
     "iopub.status.busy": "2024-06-19T16:57:33.712398Z",
     "iopub.status.idle": "2024-06-19T16:57:40.236650Z",
     "shell.execute_reply": "2024-06-19T16:57:40.236650Z",
     "shell.execute_reply.started": "2024-06-19T16:57:33.713407Z"
    }
   },
   "outputs": [
    {
     "name": "stdout",
     "output_type": "stream",
     "text": [
      "\n",
      "Text: [PAD] nighte together is [PAD] 1 ai ofiga to of further. he [PAD] the had * < mocking [PAD] items passed [PAD] within [PAD] his. [PAD] and [PAD]. [PAD] sea what [PAD] [PAD] [PAD] [PAD] side with [PAD] [PAD] gender any are find [PAD] [PAD] [PAD]\n"
     ]
    }
   ],
   "source": [
    "run_model_zeros(m, device)"
   ]
  },
  {
   "cell_type": "markdown",
   "metadata": {},
   "source": [
    "## Fine Tuning"
   ]
  },
  {
   "cell_type": "code",
   "execution_count": 6,
   "metadata": {
    "execution": {
     "iopub.execute_input": "2024-06-04T06:00:20.830069Z",
     "iopub.status.busy": "2024-06-04T06:00:20.683190Z",
     "iopub.status.idle": "2024-06-04T06:00:23.287333Z",
     "shell.execute_reply": "2024-06-04T06:00:23.287333Z",
     "shell.execute_reply.started": "2024-06-04T06:00:20.830069Z"
    }
   },
   "outputs": [],
   "source": [
    "# https://huggingface.co/datasets/Fredithefish/Instruction-Tuning-with-GPT-4-RedPajama-Chat"
   ]
  },
  {
   "cell_type": "markdown",
   "metadata": {
    "id": "UYcMDZ3qwZqr"
   },
   "source": [
    "# Tests\n",
    "This version is from running model"
   ]
  },
  {
   "cell_type": "markdown",
   "metadata": {},
   "source": [
    "## Load model"
   ]
  },
  {
   "cell_type": "code",
   "execution_count": 4,
   "metadata": {
    "colab": {
     "base_uri": "https://localhost:8080/"
    },
    "execution": {
     "iopub.execute_input": "2024-06-19T15:42:32.484599Z",
     "iopub.status.busy": "2024-06-19T15:42:32.484599Z",
     "iopub.status.idle": "2024-06-19T15:42:37.663599Z",
     "shell.execute_reply": "2024-06-19T15:42:37.662577Z",
     "shell.execute_reply.started": "2024-06-19T15:42:32.484599Z"
    },
    "id": "sAvps-6zwiXn",
    "outputId": "87fefab0-23f5-4baf-a6fa-44cbbd04412b",
    "scrolled": true
   },
   "outputs": [
    {
     "name": "stdout",
     "output_type": "stream",
     "text": [
      "\n",
      " LOAD \n",
      "\n"
     ]
    }
   ],
   "source": [
    "import torch\n",
    "\n",
    "\n",
    "# Variable setting\n",
    "\"\"\"\n",
    "max_iters = 1000\n",
    "n_layer = 16\n",
    "\"\"\"\n",
    "\n",
    "savingBasePath = f\"save/model_nn_{str(n_layer)}_gen_{str(max_iters)}\"\n",
    "model_name = f'model_nn_{str(n_layer)}_gen_{str(max_iters)}.pt'\n",
    "csv_file_name = f'loss_nn_{str(n_layer)}_gen_{str(max_iters)}.csv'\n",
    "\n",
    "device = 'cuda' if torch.cuda.is_available() else 'cpu'\n",
    "\n",
    "\n",
    "# Model\n",
    "model = BigramLanguageModel()\n",
    "m = reasume_base_data(f\"./{savingBasePath}/{model_name}\", device, model)\n",
    "\n",
    "\n",
    "# print(f\" Reponse to str: {start_sentence} => \\nOutput predicted:\\t  :{decode(m.generate(inptVal.view(1, inptVal.size()[0]), max_new_tokens=50)[0].tolist())} \")\n",
    "# print(f\"Input content: tensor([[0]])  => \\nOutput predicted:\\t  :{decode(m.generate(context, max_new_tokens=50)[0].tolist())\")"
   ]
  },
  {
   "cell_type": "markdown",
   "metadata": {},
   "source": [
    "## Print"
   ]
  },
  {
   "cell_type": "code",
   "execution_count": 68,
   "metadata": {
    "execution": {
     "iopub.execute_input": "2024-06-19T16:14:00.674146Z",
     "iopub.status.busy": "2024-06-19T16:14:00.673143Z",
     "iopub.status.idle": "2024-06-19T16:14:08.112391Z",
     "shell.execute_reply": "2024-06-19T16:14:08.111380Z",
     "shell.execute_reply.started": "2024-06-19T16:14:00.674146Z"
    }
   },
   "outputs": [
    {
     "name": "stdout",
     "output_type": "stream",
     "text": [
      "inptVal: [101, 7592, 2088, 101] -- length: 4\n",
      "[101, 7592, 2088, 101, 7097, 442, 16304, 1161, 9559, 11690, 11949, 17673, 15558, 17592, 5045, 6228, 9556, 16869, 16314, 665, 11843, 17626, 6056, 13871, 2455, 12360, 2579, 29354, 25056, 20053, 30483, 21444, 19826, 25295, 28733, 13236, 14013, 4956, 15014, 28704, 10366, 5303, 3716, 28272, 22380, 18481, 27991, 11949, 1092, 29732, 4402, 17455, 17415, 26672]\n",
      "[7097, 442, 16304, 1161, 9559, 11690, 11949, 17673, 15558, 17592, 5045, 6228, 9556, 16869, 16314, 665, 11843, 17626, 6056, 13871, 2455, 12360, 2579, 29354, 25056, 20053, 30483, 21444, 19826, 25295, 28733, 13236, 14013, 4956, 15014, 28704, 10366, 5303, 3716, 28272, 22380, 18481, 27991, 11949, 1092, 29732, 4402, 17455, 17415, 26672]\n"
     ]
    },
    {
     "data": {
      "text/plain": [
       "'nhl [unused437] joao η lawyers lesbian observe ratifiedeetatics fired mechanical findingspool bremen [unused660] malaysian expectation coalitiongg land consortium taken kata tucking cabinets道 confessionserry burnhamzbek cease glorious metropolitan expeditionslais framed wounded knowledge bedrock integrating wrought constantin observe ½ρee derry nests designations'"
      ]
     },
     "execution_count": 68,
     "metadata": {},
     "output_type": "execute_result"
    }
   ],
   "source": [
    "def run_model(start_sentence, max_new_tokens=50, commentFlag=False, decoded=False, eliminate_input=True):\n",
    "    inptVal = encode( start_sentence )\n",
    "    inptVal = inptVal[:inptVal.index(102)]\n",
    "    inptVal.append(101)\n",
    "    inptVal_c = inptVal\n",
    "    inptVal = torch.as_tensor(inptVal, dtype=torch.long, device=device)\n",
    "    \n",
    "    outVal = m.generate(inptVal_v2.view(1, inptVal.size()[0]), max_new_tokens=max_new_tokens)\n",
    "    outVal = outVal[0].tolist()\n",
    "\n",
    "    if eliminate_input: outVal = outVal[len(inptVal_c):]\n",
    "    if decoded: outVal = decode(outVal)\n",
    "    if commentFlag: print(f\" Reponse to str: {start_sentence} => \\nOutput predicted:\\t  :{outVal} \", end=\"\\n\\n\")\n",
    "    \n",
    "    return outVal\n",
    "\n",
    "run_model(\"Hello world\", decoded=True)\n"
   ]
  },
  {
   "cell_type": "code",
   "execution_count": null,
   "metadata": {},
   "outputs": [],
   "source": [
    "# out_St = run_m(m, device, \"How are you ?\")\n",
    "out_St = run_m(m, device, \"How are you ?\")\n",
    "print(out_St)"
   ]
  }
 ],
 "metadata": {
  "accelerator": "GPU",
  "colab": {
   "gpuType": "T4",
   "provenance": [],
   "toc_visible": true
  },
  "kernelspec": {
   "display_name": "Python 3 (ipykernel)",
   "language": "python",
   "name": "python3"
  },
  "language_info": {
   "codemirror_mode": {
    "name": "ipython",
    "version": 3
   },
   "file_extension": ".py",
   "mimetype": "text/x-python",
   "name": "python",
   "nbconvert_exporter": "python",
   "pygments_lexer": "ipython3",
   "version": "3.12.1"
  }
 },
 "nbformat": 4,
 "nbformat_minor": 4
}
